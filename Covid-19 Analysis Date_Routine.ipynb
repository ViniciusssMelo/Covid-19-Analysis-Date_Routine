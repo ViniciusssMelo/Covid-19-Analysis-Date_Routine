{
 "cells": [
  {
   "cell_type": "code",
   "execution_count": 1,
   "metadata": {},
   "outputs": [],
   "source": [
    "import pandas as pd\n",
    "import numpy as np\n",
    "import os\n",
    "from datetime import datetime\n",
    "import gspread\n",
    "from oauth2client.service_account import ServiceAccountCredentials"
   ]
  },
  {
   "cell_type": "markdown",
   "metadata": {},
   "source": [
    "#### Gathering datasets into a single datasource"
   ]
  },
  {
   "cell_type": "code",
   "execution_count": 2,
   "metadata": {},
   "outputs": [
    {
     "data": {
      "text/html": [
       "<div>\n",
       "<style scoped>\n",
       "    .dataframe tbody tr th:only-of-type {\n",
       "        vertical-align: middle;\n",
       "    }\n",
       "\n",
       "    .dataframe tbody tr th {\n",
       "        vertical-align: top;\n",
       "    }\n",
       "\n",
       "    .dataframe thead th {\n",
       "        text-align: right;\n",
       "    }\n",
       "</style>\n",
       "<table border=\"1\" class=\"dataframe\">\n",
       "  <thead>\n",
       "    <tr style=\"text-align: right;\">\n",
       "      <th></th>\n",
       "    </tr>\n",
       "  </thead>\n",
       "  <tbody>\n",
       "  </tbody>\n",
       "</table>\n",
       "</div>"
      ],
      "text/plain": [
       "Empty DataFrame\n",
       "Columns: []\n",
       "Index: []"
      ]
     },
     "execution_count": 2,
     "metadata": {},
     "output_type": "execute_result"
    }
   ],
   "source": [
    "result = pd.DataFrame()\n",
    "    \n",
    "result.head()"
   ]
  },
  {
   "cell_type": "code",
   "execution_count": 3,
   "metadata": {},
   "outputs": [],
   "source": [
    "url_confirmed = \"https://raw.githubusercontent.com/CSSEGISandData/COVID-19/master/csse_covid_19_data/csse_covid_19_time_series/time_series_covid19_confirmed_global.csv\"\n",
    "url_death = \"https://raw.githubusercontent.com/CSSEGISandData/COVID-19/master/csse_covid_19_data/csse_covid_19_time_series/time_series_covid19_deaths_global.csv\"\n",
    "url_recovered = \"https://raw.githubusercontent.com/CSSEGISandData/COVID-19/master/csse_covid_19_data/csse_covid_19_time_series/time_series_covid19_recovered_global.csv\"\n",
    "source_confirmed = pd.read_csv(url_confirmed,index_col=0)\n",
    "source_death  = pd.read_csv(url_death,index_col=0)\n",
    "source_recovered = pd.read_csv(url_recovered,index_col=0)\n"
   ]
  },
  {
   "cell_type": "markdown",
   "metadata": {},
   "source": [
    "#### Transforming column date"
   ]
  },
  {
   "cell_type": "code",
   "execution_count": 4,
   "metadata": {},
   "outputs": [],
   "source": [
    "source_confirmed = pd.melt(source_confirmed.reset_index(), id_vars=['Province/State','Country/Region','Lat','Long'],var_name ='Date', value_name='Confirmed')\n",
    "source_death = pd.melt(source_death.reset_index(), id_vars=['Province/State','Country/Region','Lat','Long'],var_name ='Date', value_name='Deaths')\n",
    "source_recovered = pd.melt(source_recovered.reset_index(), id_vars=['Province/State','Country/Region','Lat','Long'], var_name ='Date', value_name='Recovered')\n"
   ]
  },
  {
   "cell_type": "code",
   "execution_count": 5,
   "metadata": {},
   "outputs": [],
   "source": [
    "# Get names of indexes for which column Country/Region has value US\n",
    "##indexNamesConf = source_confirmed[source_confirmed['Country/Region'] == 'US' ].index\n",
    "##source_confirmed = source_confirmed.drop(indexNamesConf, axis=0)\n",
    "\n",
    "# Get names of indexes for which column Country/Region has value US\n",
    "##indexNamesDeath = source_death[source_death['Country/Region'] == 'US' ].index\n",
    "##source_death = source_death.drop(indexNamesDeath, axis=0)\n",
    "\n"
   ]
  },
  {
   "cell_type": "code",
   "execution_count": 6,
   "metadata": {},
   "outputs": [
    {
     "data": {
      "text/html": [
       "<div>\n",
       "<style scoped>\n",
       "    .dataframe tbody tr th:only-of-type {\n",
       "        vertical-align: middle;\n",
       "    }\n",
       "\n",
       "    .dataframe tbody tr th {\n",
       "        vertical-align: top;\n",
       "    }\n",
       "\n",
       "    .dataframe thead th {\n",
       "        text-align: right;\n",
       "    }\n",
       "</style>\n",
       "<table border=\"1\" class=\"dataframe\">\n",
       "  <thead>\n",
       "    <tr style=\"text-align: right;\">\n",
       "      <th></th>\n",
       "      <th>Province/State</th>\n",
       "      <th>Country/Region</th>\n",
       "      <th>Lat</th>\n",
       "      <th>Long</th>\n",
       "      <th>Date</th>\n",
       "      <th>Deaths</th>\n",
       "    </tr>\n",
       "  </thead>\n",
       "  <tbody>\n",
       "    <tr>\n",
       "      <td>242</td>\n",
       "      <td>NaN</td>\n",
       "      <td>US</td>\n",
       "      <td>40.0</td>\n",
       "      <td>-100.0</td>\n",
       "      <td>1/22/20</td>\n",
       "      <td>0</td>\n",
       "    </tr>\n",
       "    <tr>\n",
       "      <td>508</td>\n",
       "      <td>NaN</td>\n",
       "      <td>US</td>\n",
       "      <td>40.0</td>\n",
       "      <td>-100.0</td>\n",
       "      <td>1/23/20</td>\n",
       "      <td>0</td>\n",
       "    </tr>\n",
       "    <tr>\n",
       "      <td>774</td>\n",
       "      <td>NaN</td>\n",
       "      <td>US</td>\n",
       "      <td>40.0</td>\n",
       "      <td>-100.0</td>\n",
       "      <td>1/24/20</td>\n",
       "      <td>0</td>\n",
       "    </tr>\n",
       "    <tr>\n",
       "      <td>1040</td>\n",
       "      <td>NaN</td>\n",
       "      <td>US</td>\n",
       "      <td>40.0</td>\n",
       "      <td>-100.0</td>\n",
       "      <td>1/25/20</td>\n",
       "      <td>0</td>\n",
       "    </tr>\n",
       "    <tr>\n",
       "      <td>1306</td>\n",
       "      <td>NaN</td>\n",
       "      <td>US</td>\n",
       "      <td>40.0</td>\n",
       "      <td>-100.0</td>\n",
       "      <td>1/26/20</td>\n",
       "      <td>0</td>\n",
       "    </tr>\n",
       "    <tr>\n",
       "      <td>...</td>\n",
       "      <td>...</td>\n",
       "      <td>...</td>\n",
       "      <td>...</td>\n",
       "      <td>...</td>\n",
       "      <td>...</td>\n",
       "      <td>...</td>\n",
       "    </tr>\n",
       "    <tr>\n",
       "      <td>53176</td>\n",
       "      <td>NaN</td>\n",
       "      <td>US</td>\n",
       "      <td>40.0</td>\n",
       "      <td>-100.0</td>\n",
       "      <td>8/8/20</td>\n",
       "      <td>162423</td>\n",
       "    </tr>\n",
       "    <tr>\n",
       "      <td>53442</td>\n",
       "      <td>NaN</td>\n",
       "      <td>US</td>\n",
       "      <td>40.0</td>\n",
       "      <td>-100.0</td>\n",
       "      <td>8/9/20</td>\n",
       "      <td>162938</td>\n",
       "    </tr>\n",
       "    <tr>\n",
       "      <td>53708</td>\n",
       "      <td>NaN</td>\n",
       "      <td>US</td>\n",
       "      <td>40.0</td>\n",
       "      <td>-100.0</td>\n",
       "      <td>8/10/20</td>\n",
       "      <td>163463</td>\n",
       "    </tr>\n",
       "    <tr>\n",
       "      <td>53974</td>\n",
       "      <td>NaN</td>\n",
       "      <td>US</td>\n",
       "      <td>40.0</td>\n",
       "      <td>-100.0</td>\n",
       "      <td>8/11/20</td>\n",
       "      <td>164527</td>\n",
       "    </tr>\n",
       "    <tr>\n",
       "      <td>54240</td>\n",
       "      <td>NaN</td>\n",
       "      <td>US</td>\n",
       "      <td>40.0</td>\n",
       "      <td>-100.0</td>\n",
       "      <td>8/12/20</td>\n",
       "      <td>166026</td>\n",
       "    </tr>\n",
       "  </tbody>\n",
       "</table>\n",
       "<p>204 rows × 6 columns</p>\n",
       "</div>"
      ],
      "text/plain": [
       "      Province/State Country/Region   Lat   Long     Date  Deaths\n",
       "242              NaN             US  40.0 -100.0  1/22/20       0\n",
       "508              NaN             US  40.0 -100.0  1/23/20       0\n",
       "774              NaN             US  40.0 -100.0  1/24/20       0\n",
       "1040             NaN             US  40.0 -100.0  1/25/20       0\n",
       "1306             NaN             US  40.0 -100.0  1/26/20       0\n",
       "...              ...            ...   ...    ...      ...     ...\n",
       "53176            NaN             US  40.0 -100.0   8/8/20  162423\n",
       "53442            NaN             US  40.0 -100.0   8/9/20  162938\n",
       "53708            NaN             US  40.0 -100.0  8/10/20  163463\n",
       "53974            NaN             US  40.0 -100.0  8/11/20  164527\n",
       "54240            NaN             US  40.0 -100.0  8/12/20  166026\n",
       "\n",
       "[204 rows x 6 columns]"
      ]
     },
     "execution_count": 6,
     "metadata": {},
     "output_type": "execute_result"
    }
   ],
   "source": [
    "source_confirmed[source_confirmed[\"Country/Region\"] == \"US\"]\n",
    "source_death[source_death[\"Country/Region\"] == \"US\"]"
   ]
  },
  {
   "cell_type": "code",
   "execution_count": 7,
   "metadata": {},
   "outputs": [],
   "source": [
    "result = source_confirmed.merge(source_death, how='outer')\n",
    "result = result.merge(source_recovered, how='outer')\n",
    "\n",
    "##result = result.merge(result_US, how='outer')"
   ]
  },
  {
   "cell_type": "code",
   "execution_count": 8,
   "metadata": {},
   "outputs": [],
   "source": [
    "result[\"Date\"] = pd.to_datetime(result[\"Date\"])\n",
    "\n",
    "result = result.reset_index()\n",
    "\n",
    "result.rename(columns={\"Country/Region\": \"Country\"}, inplace=True)"
   ]
  },
  {
   "cell_type": "code",
   "execution_count": 9,
   "metadata": {},
   "outputs": [],
   "source": [
    "##result = result.reset_index()\n",
    "result.set_index('Country','Date', inplace=True)"
   ]
  },
  {
   "cell_type": "code",
   "execution_count": 10,
   "metadata": {},
   "outputs": [],
   "source": [
    "#Index:  df.set_index('DateTime1', drop=True, append=False, inplace=True, verify_integrity=False)\n",
    "#        df = df.sort_index()\n",
    "\n",
    "# lag confirmed by Dates\n",
    "\n",
    "##result = result.sort_values(by=[\"Country/Region\"],ascending=True)\n",
    "\n",
    "##us = result.loc['US']\n",
    "\n",
    "##us = us.reset_index()\n",
    "\n",
    "##result = result.reset_index()\n",
    "\n",
    "##result.set_index('Country/Region', inplace=True)\n",
    "\n",
    "##us.set_index('Date', inplace=True)"
   ]
  },
  {
   "cell_type": "markdown",
   "metadata": {},
   "source": [
    "##### Grouping the Data Frame in order to correct some values in regard of Province and Location"
   ]
  },
  {
   "cell_type": "code",
   "execution_count": 11,
   "metadata": {},
   "outputs": [
    {
     "data": {
      "text/html": [
       "<div>\n",
       "<style scoped>\n",
       "    .dataframe tbody tr th:only-of-type {\n",
       "        vertical-align: middle;\n",
       "    }\n",
       "\n",
       "    .dataframe tbody tr th {\n",
       "        vertical-align: top;\n",
       "    }\n",
       "\n",
       "    .dataframe thead th {\n",
       "        text-align: right;\n",
       "    }\n",
       "</style>\n",
       "<table border=\"1\" class=\"dataframe\">\n",
       "  <thead>\n",
       "    <tr style=\"text-align: right;\">\n",
       "      <th></th>\n",
       "      <th></th>\n",
       "      <th>Confirmed</th>\n",
       "      <th>Deaths</th>\n",
       "      <th>Recovered</th>\n",
       "    </tr>\n",
       "    <tr>\n",
       "      <th>Country</th>\n",
       "      <th>Date</th>\n",
       "      <th></th>\n",
       "      <th></th>\n",
       "      <th></th>\n",
       "    </tr>\n",
       "  </thead>\n",
       "  <tbody>\n",
       "    <tr>\n",
       "      <td rowspan=\"5\" valign=\"top\">Afghanistan</td>\n",
       "      <td>2020-01-22</td>\n",
       "      <td>0.0</td>\n",
       "      <td>0.0</td>\n",
       "      <td>0.0</td>\n",
       "    </tr>\n",
       "    <tr>\n",
       "      <td>2020-01-23</td>\n",
       "      <td>0.0</td>\n",
       "      <td>0.0</td>\n",
       "      <td>0.0</td>\n",
       "    </tr>\n",
       "    <tr>\n",
       "      <td>2020-01-24</td>\n",
       "      <td>0.0</td>\n",
       "      <td>0.0</td>\n",
       "      <td>0.0</td>\n",
       "    </tr>\n",
       "    <tr>\n",
       "      <td>2020-01-25</td>\n",
       "      <td>0.0</td>\n",
       "      <td>0.0</td>\n",
       "      <td>0.0</td>\n",
       "    </tr>\n",
       "    <tr>\n",
       "      <td>2020-01-26</td>\n",
       "      <td>0.0</td>\n",
       "      <td>0.0</td>\n",
       "      <td>0.0</td>\n",
       "    </tr>\n",
       "    <tr>\n",
       "      <td>...</td>\n",
       "      <td>...</td>\n",
       "      <td>...</td>\n",
       "      <td>...</td>\n",
       "      <td>...</td>\n",
       "    </tr>\n",
       "    <tr>\n",
       "      <td rowspan=\"5\" valign=\"top\">Angola</td>\n",
       "      <td>2020-07-19</td>\n",
       "      <td>705.0</td>\n",
       "      <td>29.0</td>\n",
       "      <td>221.0</td>\n",
       "    </tr>\n",
       "    <tr>\n",
       "      <td>2020-07-20</td>\n",
       "      <td>749.0</td>\n",
       "      <td>29.0</td>\n",
       "      <td>221.0</td>\n",
       "    </tr>\n",
       "    <tr>\n",
       "      <td>2020-07-21</td>\n",
       "      <td>779.0</td>\n",
       "      <td>30.0</td>\n",
       "      <td>221.0</td>\n",
       "    </tr>\n",
       "    <tr>\n",
       "      <td>2020-07-22</td>\n",
       "      <td>812.0</td>\n",
       "      <td>33.0</td>\n",
       "      <td>221.0</td>\n",
       "    </tr>\n",
       "    <tr>\n",
       "      <td>2020-07-23</td>\n",
       "      <td>851.0</td>\n",
       "      <td>33.0</td>\n",
       "      <td>236.0</td>\n",
       "    </tr>\n",
       "  </tbody>\n",
       "</table>\n",
       "<p>1000 rows × 3 columns</p>\n",
       "</div>"
      ],
      "text/plain": [
       "                        Confirmed  Deaths  Recovered\n",
       "Country     Date                                    \n",
       "Afghanistan 2020-01-22        0.0     0.0        0.0\n",
       "            2020-01-23        0.0     0.0        0.0\n",
       "            2020-01-24        0.0     0.0        0.0\n",
       "            2020-01-25        0.0     0.0        0.0\n",
       "            2020-01-26        0.0     0.0        0.0\n",
       "...                           ...     ...        ...\n",
       "Angola      2020-07-19      705.0    29.0      221.0\n",
       "            2020-07-20      749.0    29.0      221.0\n",
       "            2020-07-21      779.0    30.0      221.0\n",
       "            2020-07-22      812.0    33.0      221.0\n",
       "            2020-07-23      851.0    33.0      236.0\n",
       "\n",
       "[1000 rows x 3 columns]"
      ]
     },
     "execution_count": 11,
     "metadata": {},
     "output_type": "execute_result"
    }
   ],
   "source": [
    "result = result.groupby(['Country','Date'])['Confirmed','Deaths','Recovered'].sum()\n",
    "result.head(1000)"
   ]
  },
  {
   "cell_type": "code",
   "execution_count": 12,
   "metadata": {},
   "outputs": [],
   "source": [
    "result['Confirmed_Lag'] = result.groupby('Country')['Confirmed'].shift(1)\n",
    "result['Deaths_Lag'] = result.groupby('Country')['Deaths'].shift(1)\n",
    "result['Recovered_Lag'] = result.groupby('Country')['Recovered'].shift(1)"
   ]
  },
  {
   "cell_type": "code",
   "execution_count": 13,
   "metadata": {},
   "outputs": [],
   "source": [
    "result['Confirmed_Growth'] = result['Confirmed'] - result['Confirmed_Lag'] \n",
    "result['Deaths_Growth']    = result['Deaths']    - result['Deaths_Lag'] \n",
    "result['Recovered_Growth'] = result['Recovered'] - result['Recovered_Lag'] "
   ]
  },
  {
   "cell_type": "code",
   "execution_count": 14,
   "metadata": {},
   "outputs": [
    {
     "data": {
      "text/html": [
       "<div>\n",
       "<style scoped>\n",
       "    .dataframe tbody tr th:only-of-type {\n",
       "        vertical-align: middle;\n",
       "    }\n",
       "\n",
       "    .dataframe tbody tr th {\n",
       "        vertical-align: top;\n",
       "    }\n",
       "\n",
       "    .dataframe thead th {\n",
       "        text-align: right;\n",
       "    }\n",
       "</style>\n",
       "<table border=\"1\" class=\"dataframe\">\n",
       "  <thead>\n",
       "    <tr style=\"text-align: right;\">\n",
       "      <th></th>\n",
       "      <th></th>\n",
       "      <th>Confirmed</th>\n",
       "      <th>Deaths</th>\n",
       "      <th>Recovered</th>\n",
       "      <th>Confirmed_Lag</th>\n",
       "      <th>Deaths_Lag</th>\n",
       "      <th>Recovered_Lag</th>\n",
       "      <th>Confirmed_Growth</th>\n",
       "      <th>Deaths_Growth</th>\n",
       "      <th>Recovered_Growth</th>\n",
       "    </tr>\n",
       "    <tr>\n",
       "      <th>Country</th>\n",
       "      <th>Date</th>\n",
       "      <th></th>\n",
       "      <th></th>\n",
       "      <th></th>\n",
       "      <th></th>\n",
       "      <th></th>\n",
       "      <th></th>\n",
       "      <th></th>\n",
       "      <th></th>\n",
       "      <th></th>\n",
       "    </tr>\n",
       "  </thead>\n",
       "  <tbody>\n",
       "    <tr>\n",
       "      <td rowspan=\"5\" valign=\"top\">Afghanistan</td>\n",
       "      <td>2020-01-22</td>\n",
       "      <td>0.0</td>\n",
       "      <td>0.0</td>\n",
       "      <td>0.0</td>\n",
       "      <td>NaN</td>\n",
       "      <td>NaN</td>\n",
       "      <td>NaN</td>\n",
       "      <td>NaN</td>\n",
       "      <td>NaN</td>\n",
       "      <td>NaN</td>\n",
       "    </tr>\n",
       "    <tr>\n",
       "      <td>2020-01-23</td>\n",
       "      <td>0.0</td>\n",
       "      <td>0.0</td>\n",
       "      <td>0.0</td>\n",
       "      <td>0.0</td>\n",
       "      <td>0.0</td>\n",
       "      <td>0.0</td>\n",
       "      <td>0.0</td>\n",
       "      <td>0.0</td>\n",
       "      <td>0.0</td>\n",
       "    </tr>\n",
       "    <tr>\n",
       "      <td>2020-01-24</td>\n",
       "      <td>0.0</td>\n",
       "      <td>0.0</td>\n",
       "      <td>0.0</td>\n",
       "      <td>0.0</td>\n",
       "      <td>0.0</td>\n",
       "      <td>0.0</td>\n",
       "      <td>0.0</td>\n",
       "      <td>0.0</td>\n",
       "      <td>0.0</td>\n",
       "    </tr>\n",
       "    <tr>\n",
       "      <td>2020-01-25</td>\n",
       "      <td>0.0</td>\n",
       "      <td>0.0</td>\n",
       "      <td>0.0</td>\n",
       "      <td>0.0</td>\n",
       "      <td>0.0</td>\n",
       "      <td>0.0</td>\n",
       "      <td>0.0</td>\n",
       "      <td>0.0</td>\n",
       "      <td>0.0</td>\n",
       "    </tr>\n",
       "    <tr>\n",
       "      <td>2020-01-26</td>\n",
       "      <td>0.0</td>\n",
       "      <td>0.0</td>\n",
       "      <td>0.0</td>\n",
       "      <td>0.0</td>\n",
       "      <td>0.0</td>\n",
       "      <td>0.0</td>\n",
       "      <td>0.0</td>\n",
       "      <td>0.0</td>\n",
       "      <td>0.0</td>\n",
       "    </tr>\n",
       "    <tr>\n",
       "      <td>...</td>\n",
       "      <td>...</td>\n",
       "      <td>...</td>\n",
       "      <td>...</td>\n",
       "      <td>...</td>\n",
       "      <td>...</td>\n",
       "      <td>...</td>\n",
       "      <td>...</td>\n",
       "      <td>...</td>\n",
       "      <td>...</td>\n",
       "      <td>...</td>\n",
       "    </tr>\n",
       "    <tr>\n",
       "      <td>Diamond Princess</td>\n",
       "      <td>2020-08-12</td>\n",
       "      <td>712.0</td>\n",
       "      <td>13.0</td>\n",
       "      <td>651.0</td>\n",
       "      <td>712.0</td>\n",
       "      <td>13.0</td>\n",
       "      <td>651.0</td>\n",
       "      <td>0.0</td>\n",
       "      <td>0.0</td>\n",
       "      <td>0.0</td>\n",
       "    </tr>\n",
       "    <tr>\n",
       "      <td rowspan=\"4\" valign=\"top\">Djibouti</td>\n",
       "      <td>2020-01-22</td>\n",
       "      <td>0.0</td>\n",
       "      <td>0.0</td>\n",
       "      <td>0.0</td>\n",
       "      <td>NaN</td>\n",
       "      <td>NaN</td>\n",
       "      <td>NaN</td>\n",
       "      <td>NaN</td>\n",
       "      <td>NaN</td>\n",
       "      <td>NaN</td>\n",
       "    </tr>\n",
       "    <tr>\n",
       "      <td>2020-01-23</td>\n",
       "      <td>0.0</td>\n",
       "      <td>0.0</td>\n",
       "      <td>0.0</td>\n",
       "      <td>0.0</td>\n",
       "      <td>0.0</td>\n",
       "      <td>0.0</td>\n",
       "      <td>0.0</td>\n",
       "      <td>0.0</td>\n",
       "      <td>0.0</td>\n",
       "    </tr>\n",
       "    <tr>\n",
       "      <td>2020-01-24</td>\n",
       "      <td>0.0</td>\n",
       "      <td>0.0</td>\n",
       "      <td>0.0</td>\n",
       "      <td>0.0</td>\n",
       "      <td>0.0</td>\n",
       "      <td>0.0</td>\n",
       "      <td>0.0</td>\n",
       "      <td>0.0</td>\n",
       "      <td>0.0</td>\n",
       "    </tr>\n",
       "    <tr>\n",
       "      <td>2020-01-25</td>\n",
       "      <td>0.0</td>\n",
       "      <td>0.0</td>\n",
       "      <td>0.0</td>\n",
       "      <td>0.0</td>\n",
       "      <td>0.0</td>\n",
       "      <td>0.0</td>\n",
       "      <td>0.0</td>\n",
       "      <td>0.0</td>\n",
       "      <td>0.0</td>\n",
       "    </tr>\n",
       "  </tbody>\n",
       "</table>\n",
       "<p>10000 rows × 9 columns</p>\n",
       "</div>"
      ],
      "text/plain": [
       "                             Confirmed  Deaths  Recovered  Confirmed_Lag  \\\n",
       "Country          Date                                                      \n",
       "Afghanistan      2020-01-22        0.0     0.0        0.0            NaN   \n",
       "                 2020-01-23        0.0     0.0        0.0            0.0   \n",
       "                 2020-01-24        0.0     0.0        0.0            0.0   \n",
       "                 2020-01-25        0.0     0.0        0.0            0.0   \n",
       "                 2020-01-26        0.0     0.0        0.0            0.0   \n",
       "...                                ...     ...        ...            ...   \n",
       "Diamond Princess 2020-08-12      712.0    13.0      651.0          712.0   \n",
       "Djibouti         2020-01-22        0.0     0.0        0.0            NaN   \n",
       "                 2020-01-23        0.0     0.0        0.0            0.0   \n",
       "                 2020-01-24        0.0     0.0        0.0            0.0   \n",
       "                 2020-01-25        0.0     0.0        0.0            0.0   \n",
       "\n",
       "                             Deaths_Lag  Recovered_Lag  Confirmed_Growth  \\\n",
       "Country          Date                                                      \n",
       "Afghanistan      2020-01-22         NaN            NaN               NaN   \n",
       "                 2020-01-23         0.0            0.0               0.0   \n",
       "                 2020-01-24         0.0            0.0               0.0   \n",
       "                 2020-01-25         0.0            0.0               0.0   \n",
       "                 2020-01-26         0.0            0.0               0.0   \n",
       "...                                 ...            ...               ...   \n",
       "Diamond Princess 2020-08-12        13.0          651.0               0.0   \n",
       "Djibouti         2020-01-22         NaN            NaN               NaN   \n",
       "                 2020-01-23         0.0            0.0               0.0   \n",
       "                 2020-01-24         0.0            0.0               0.0   \n",
       "                 2020-01-25         0.0            0.0               0.0   \n",
       "\n",
       "                             Deaths_Growth  Recovered_Growth  \n",
       "Country          Date                                         \n",
       "Afghanistan      2020-01-22            NaN               NaN  \n",
       "                 2020-01-23            0.0               0.0  \n",
       "                 2020-01-24            0.0               0.0  \n",
       "                 2020-01-25            0.0               0.0  \n",
       "                 2020-01-26            0.0               0.0  \n",
       "...                                    ...               ...  \n",
       "Diamond Princess 2020-08-12            0.0               0.0  \n",
       "Djibouti         2020-01-22            NaN               NaN  \n",
       "                 2020-01-23            0.0               0.0  \n",
       "                 2020-01-24            0.0               0.0  \n",
       "                 2020-01-25            0.0               0.0  \n",
       "\n",
       "[10000 rows x 9 columns]"
      ]
     },
     "execution_count": 14,
     "metadata": {},
     "output_type": "execute_result"
    }
   ],
   "source": [
    "result.head(10000)"
   ]
  },
  {
   "cell_type": "code",
   "execution_count": 15,
   "metadata": {},
   "outputs": [],
   "source": [
    "result = result.groupby(['Country','Date'])['Confirmed','Deaths','Recovered','Confirmed_Growth','Deaths_Growth','Recovered_Growth'].sum()"
   ]
  },
  {
   "cell_type": "markdown",
   "metadata": {},
   "source": [
    "#### First Dates in regard of confirmed, deaths and recovered"
   ]
  },
  {
   "cell_type": "code",
   "execution_count": 16,
   "metadata": {},
   "outputs": [],
   "source": [
    "first_confirmed = result.query('Confirmed > 0').groupby('Country').head(1)\n",
    "first_death     = result.query('Deaths > 0').groupby('Country').head(1)\n",
    "first_recovered = result.query('Recovered > 0').groupby('Country').head(1)"
   ]
  },
  {
   "cell_type": "code",
   "execution_count": 17,
   "metadata": {},
   "outputs": [
    {
     "data": {
      "text/html": [
       "<div>\n",
       "<style scoped>\n",
       "    .dataframe tbody tr th:only-of-type {\n",
       "        vertical-align: middle;\n",
       "    }\n",
       "\n",
       "    .dataframe tbody tr th {\n",
       "        vertical-align: top;\n",
       "    }\n",
       "\n",
       "    .dataframe thead th {\n",
       "        text-align: right;\n",
       "    }\n",
       "</style>\n",
       "<table border=\"1\" class=\"dataframe\">\n",
       "  <thead>\n",
       "    <tr style=\"text-align: right;\">\n",
       "      <th></th>\n",
       "      <th></th>\n",
       "      <th>Confirmed</th>\n",
       "      <th>Deaths</th>\n",
       "      <th>Recovered</th>\n",
       "      <th>Confirmed_Growth</th>\n",
       "      <th>Deaths_Growth</th>\n",
       "      <th>Recovered_Growth</th>\n",
       "    </tr>\n",
       "    <tr>\n",
       "      <th>Country</th>\n",
       "      <th>Date</th>\n",
       "      <th></th>\n",
       "      <th></th>\n",
       "      <th></th>\n",
       "      <th></th>\n",
       "      <th></th>\n",
       "      <th></th>\n",
       "    </tr>\n",
       "  </thead>\n",
       "  <tbody>\n",
       "    <tr>\n",
       "      <td>Afghanistan</td>\n",
       "      <td>2020-02-24</td>\n",
       "      <td>1.0</td>\n",
       "      <td>0.0</td>\n",
       "      <td>0.0</td>\n",
       "      <td>1.0</td>\n",
       "      <td>0.0</td>\n",
       "      <td>0.0</td>\n",
       "    </tr>\n",
       "    <tr>\n",
       "      <td>Albania</td>\n",
       "      <td>2020-03-09</td>\n",
       "      <td>2.0</td>\n",
       "      <td>0.0</td>\n",
       "      <td>0.0</td>\n",
       "      <td>2.0</td>\n",
       "      <td>0.0</td>\n",
       "      <td>0.0</td>\n",
       "    </tr>\n",
       "    <tr>\n",
       "      <td>Algeria</td>\n",
       "      <td>2020-02-25</td>\n",
       "      <td>1.0</td>\n",
       "      <td>0.0</td>\n",
       "      <td>0.0</td>\n",
       "      <td>1.0</td>\n",
       "      <td>0.0</td>\n",
       "      <td>0.0</td>\n",
       "    </tr>\n",
       "    <tr>\n",
       "      <td>Andorra</td>\n",
       "      <td>2020-03-02</td>\n",
       "      <td>1.0</td>\n",
       "      <td>0.0</td>\n",
       "      <td>0.0</td>\n",
       "      <td>1.0</td>\n",
       "      <td>0.0</td>\n",
       "      <td>0.0</td>\n",
       "    </tr>\n",
       "    <tr>\n",
       "      <td>Angola</td>\n",
       "      <td>2020-03-20</td>\n",
       "      <td>1.0</td>\n",
       "      <td>0.0</td>\n",
       "      <td>0.0</td>\n",
       "      <td>1.0</td>\n",
       "      <td>0.0</td>\n",
       "      <td>0.0</td>\n",
       "    </tr>\n",
       "  </tbody>\n",
       "</table>\n",
       "</div>"
      ],
      "text/plain": [
       "                        Confirmed  Deaths  Recovered  Confirmed_Growth  \\\n",
       "Country     Date                                                         \n",
       "Afghanistan 2020-02-24        1.0     0.0        0.0               1.0   \n",
       "Albania     2020-03-09        2.0     0.0        0.0               2.0   \n",
       "Algeria     2020-02-25        1.0     0.0        0.0               1.0   \n",
       "Andorra     2020-03-02        1.0     0.0        0.0               1.0   \n",
       "Angola      2020-03-20        1.0     0.0        0.0               1.0   \n",
       "\n",
       "                        Deaths_Growth  Recovered_Growth  \n",
       "Country     Date                                         \n",
       "Afghanistan 2020-02-24            0.0               0.0  \n",
       "Albania     2020-03-09            0.0               0.0  \n",
       "Algeria     2020-02-25            0.0               0.0  \n",
       "Andorra     2020-03-02            0.0               0.0  \n",
       "Angola      2020-03-20            0.0               0.0  "
      ]
     },
     "execution_count": 17,
     "metadata": {},
     "output_type": "execute_result"
    }
   ],
   "source": [
    "first_confirmed.head()"
   ]
  },
  {
   "cell_type": "code",
   "execution_count": 18,
   "metadata": {},
   "outputs": [],
   "source": [
    "first_confirmed = first_confirmed.reset_index()\n",
    "first_death     = first_death.reset_index()\n",
    "first_recovered = first_recovered.reset_index()\n",
    "result          = result.reset_index()"
   ]
  },
  {
   "cell_type": "markdown",
   "metadata": {},
   "source": [
    "#### First Confirmed Date"
   ]
  },
  {
   "cell_type": "code",
   "execution_count": 19,
   "metadata": {},
   "outputs": [],
   "source": [
    "date = ''\n",
    "country = ''\n",
    "for i, row1 in first_confirmed.iterrows():\n",
    "    country = row1['Country']\n",
    "    date = row1['Date']\n",
    "    \n",
    "    for i2, row2 in result.iterrows():\n",
    "        if result.loc[i2, 'Country'] == country:\n",
    "            result.loc[i2, 'First_Confirmed'] = date"
   ]
  },
  {
   "cell_type": "markdown",
   "metadata": {},
   "source": [
    "#### First Death Date"
   ]
  },
  {
   "cell_type": "code",
   "execution_count": 20,
   "metadata": {},
   "outputs": [],
   "source": [
    "for i, row1 in first_death.iterrows():\n",
    "    country = row1['Country']\n",
    "    date = row1['Date']\n",
    "    \n",
    "    for i2, row2 in result.iterrows():\n",
    "        if result.loc[i2, 'Country'] == country:\n",
    "            result.loc[i2, 'First_Death'] = date"
   ]
  },
  {
   "cell_type": "markdown",
   "metadata": {},
   "source": [
    "#### First Recovered Day"
   ]
  },
  {
   "cell_type": "code",
   "execution_count": null,
   "metadata": {},
   "outputs": [],
   "source": [
    "for i, row1 in first_recovered.iterrows():\n",
    "    country = row1['Country']\n",
    "    date = row1['Date']\n",
    "    \n",
    "    for i2, row2 in result.iterrows():\n",
    "        if result.loc[i2, 'Country'] == country:\n",
    "            result.loc[i2, 'First_Recovered'] = date"
   ]
  },
  {
   "cell_type": "code",
   "execution_count": null,
   "metadata": {},
   "outputs": [],
   "source": [
    "result.head(1000) "
   ]
  },
  {
   "cell_type": "code",
   "execution_count": null,
   "metadata": {},
   "outputs": [],
   "source": [
    "result.dtypes"
   ]
  },
  {
   "cell_type": "code",
   "execution_count": null,
   "metadata": {},
   "outputs": [],
   "source": [
    "def numOfDays(date1, date2):\n",
    "    if date2 > date1:\n",
    "        return 0\n",
    "    else:\n",
    "        return abs((date2-date1).days)"
   ]
  },
  {
   "cell_type": "markdown",
   "metadata": {},
   "source": [
    "#### Calculate days since first cases, deaths and recovered and AVG by day"
   ]
  },
  {
   "cell_type": "code",
   "execution_count": null,
   "metadata": {},
   "outputs": [],
   "source": [
    "for i, row in result.iterrows():\n",
    "    result.loc[i, 'Days_Since_First_Case']      = numOfDays(result.loc[i, 'Date'], row['First_Confirmed'])\n",
    "    result.loc[i, 'Days_Since_First_Death']     = numOfDays(result.loc[i, 'Date'], row['First_Death'])\n",
    "    result.loc[i, 'Days_Since_First_Recovered'] = numOfDays(result.loc[i, 'Date'], row['First_Recovered'])\n",
    "    result.loc[i, 'Avg_Cases_by_Day']           = result.loc[i, 'Confirmed'] / result.loc[i, 'Days_Since_First_Case']\n",
    "    result.loc[i, 'Avg_Cases_by_Death']         = result.loc[i, 'Deaths'] / result.loc[i, 'Days_Since_First_Death'] \n",
    "    result.loc[i, 'Avg_Cases_by_Recovered']     = result.loc[i, 'Recovered'] / result.loc[i, 'Days_Since_First_Recovered']"
   ]
  },
  {
   "cell_type": "code",
   "execution_count": null,
   "metadata": {},
   "outputs": [],
   "source": [
    "result.set_index('Country','Date', inplace=True)"
   ]
  },
  {
   "cell_type": "code",
   "execution_count": null,
   "metadata": {},
   "outputs": [],
   "source": [
    "br = result.loc['Brazil']"
   ]
  },
  {
   "cell_type": "code",
   "execution_count": null,
   "metadata": {},
   "outputs": [],
   "source": [
    "br.head(1000)"
   ]
  },
  {
   "cell_type": "code",
   "execution_count": null,
   "metadata": {},
   "outputs": [],
   "source": [
    "result.head(1000)"
   ]
  },
  {
   "cell_type": "code",
   "execution_count": null,
   "metadata": {
    "scrolled": true
   },
   "outputs": [],
   "source": [
    "result = result.to_csv(index=True)"
   ]
  },
  {
   "cell_type": "markdown",
   "metadata": {},
   "source": [
    "#### Use creds to create a client to interact with the Google Drive API"
   ]
  },
  {
   "cell_type": "code",
   "execution_count": null,
   "metadata": {},
   "outputs": [],
   "source": [
    "SPREADSHEET_ID = '1Y2WhnoWoXII8CsFSJ0b8cypEXgyA0H_TQQJJjjFMpBA'\n",
    "worksheet_name = 'Covid-19'\n",
    "scope = ['https://spreadsheets.google.com/feeds','https://www.googleapis.com/auth/drive']\n",
    "creds = ServiceAccountCredentials.from_json_keyfile_name('Covid-19 Reports-452f66ad4e2b.json', scope)\n",
    "client = gspread.authorize(creds)"
   ]
  },
  {
   "cell_type": "markdown",
   "metadata": {},
   "source": [
    "#### Find a workbook by name and open the first sheet"
   ]
  },
  {
   "cell_type": "code",
   "execution_count": null,
   "metadata": {},
   "outputs": [],
   "source": [
    "sheet = client.open(worksheet_name).sheet1"
   ]
  },
  {
   "cell_type": "markdown",
   "metadata": {},
   "source": [
    "### Inserting data to the Google SpreadSheet"
   ]
  },
  {
   "cell_type": "code",
   "execution_count": null,
   "metadata": {},
   "outputs": [],
   "source": [
    "client.import_csv(SPREADSHEET_ID, result)"
   ]
  }
 ],
 "metadata": {
  "kernelspec": {
   "display_name": "Python 3",
   "language": "python",
   "name": "python3"
  },
  "language_info": {
   "codemirror_mode": {
    "name": "ipython",
    "version": 3
   },
   "file_extension": ".py",
   "mimetype": "text/x-python",
   "name": "python",
   "nbconvert_exporter": "python",
   "pygments_lexer": "ipython3",
   "version": "3.7.4"
  }
 },
 "nbformat": 4,
 "nbformat_minor": 2
}
